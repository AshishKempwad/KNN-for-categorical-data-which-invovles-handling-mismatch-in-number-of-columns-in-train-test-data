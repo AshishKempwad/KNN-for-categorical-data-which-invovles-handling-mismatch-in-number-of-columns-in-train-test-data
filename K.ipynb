{
 "cells": [
  {
   "cell_type": "markdown",
   "metadata": {},
   "source": [
    "# Knn based classifier"
   ]
  },
  {
   "cell_type": "code",
   "execution_count": 1,
   "metadata": {},
   "outputs": [],
   "source": [
    "import pandas as pd\n",
    "import numpy as np\n",
    "import matplotlib.pyplot as plt\n",
    "import math\n",
    "from sklearn.metrics import accuracy_score\n",
    "from sklearn.metrics import confusion_matrix \n",
    "from sklearn.metrics import classification_report as cr\n",
    "from scipy.spatial import distance as dist\n",
    "diff_dist=[]"
   ]
  },
  {
   "cell_type": "markdown",
   "metadata": {},
   "source": [
    "K-Nearest Neighbors is one of the most basic yet essential classification algorithms in Machine Learning. It belongs to the supervised learning domain and finds intense application in pattern recognition, data mining and intrusion detection.\n",
    "\n",
    "It is widely disposable in real-life scenarios since it is non-parametric, meaning, it does not make any underlying assumptions about the distribution of data (as opposed to other algorithms such as GMM, which assume a Gaussian distribution of the given data).\n",
    "\n",
    "Algorithm Let m be the number of training data samples. Let p be an unknown point.\n",
    "\n",
    "1) Store the training samples in an array of data points arr[]. This means each element of this array represents a tuple (x, y).\n",
    "\n",
    "2) for i=0 to m: Calculate (Euclidean/Manhattan/Cosine) distance d(arr[i], p).\n",
    "\n",
    "3) Make set S of K smallest distances obtained. Each of these distances corresponds to an already classified data point.\n",
    "\n",
    "4)Return the majority label among S."
   ]
  },
  {
   "cell_type": "markdown",
   "metadata": {},
   "source": [
    "# Method 1\n",
    "Using list of list wherein you create the list of all the attributes present in dataset but there might be a case wherein some of the attibutes are not present in training datatset and some are absent in test dataset. Using Transpose and reindex it an be handled.\n",
    "\n"
   ]
  },
  {
   "cell_type": "code",
   "execution_count": 2,
   "metadata": {},
   "outputs": [],
   "source": [
    "#Import dataset\n",
    "dataset=pd.read_csv('train.csv',header=None)\n",
    "test_data=pd.read_csv('test.csv',header=None) \n",
    "label_data=pd.read_csv('test_labels.csv',header=None)\n"
   ]
  },
  {
   "cell_type": "code",
   "execution_count": 3,
   "metadata": {},
   "outputs": [
    {
     "name": "stdout",
     "output_type": "stream",
     "text": [
      "<class 'pandas.core.frame.DataFrame'>\n",
      "RangeIndex: 1000 entries, 0 to 999\n",
      "Data columns (total 1 columns):\n",
      "0    1000 non-null object\n",
      "dtypes: object(1)\n",
      "memory usage: 7.9+ KB\n"
     ]
    }
   ],
   "source": [
    "label_data.info()"
   ]
  },
  {
   "cell_type": "code",
   "execution_count": 4,
   "metadata": {},
   "outputs": [],
   "source": [
    "#Location x is independent(label) and y is independent(vales)\n",
    "x=dataset.iloc[:,:1]\n",
    "y=dataset.iloc[:,1:]\n"
   ]
  },
  {
   "cell_type": "code",
   "execution_count": 5,
   "metadata": {},
   "outputs": [],
   "source": [
    "train_data=pd.DataFrame(y)\n",
    "test_data_df=pd.DataFrame(test_data)"
   ]
  },
  {
   "cell_type": "code",
   "execution_count": 6,
   "metadata": {},
   "outputs": [],
   "source": [
    "train_data.drop(dataset.columns[[11]], axis = 1, inplace = True) \n",
    "test_data_df.drop(dataset.columns[[10]], axis = 1, inplace = True) "
   ]
  },
  {
   "cell_type": "code",
   "execution_count": 7,
   "metadata": {},
   "outputs": [],
   "source": [
    "feat=[['s','k','f','x','c','b'],['f','g','y','s'],['n','b','c','g','r','p','u','e','w','y'],['t','f'],['a','l','c','y','f','m','n','p','s'],\n",
    "      ['a','d','f','n'],['c','w','d'],['b','n'],['k','n','b','h','g','r','o','p','u','e','w','y'],['e','t'],\n",
    "      ['f','y','k','s'],['f','y','k','s'],['n','b','c','g','o','p','e','w','y'],['n','b','c','g','o','p','e','w','y'],\n",
    "      ['p','u'],['n','o','w','y'],['n','o','t'],['c','e','f','l','n','p','s','z'],['k','n','b','h','r','o','u','w','y'],\n",
    "      ['a','c','n','s','v','y'],['g','l','m','p','u','w','d'] ]\n",
    "     "
   ]
  },
  {
   "cell_type": "code",
   "execution_count": 8,
   "metadata": {},
   "outputs": [],
   "source": [
    "df=pd.DataFrame(columns=None)\n"
   ]
  },
  {
   "cell_type": "code",
   "execution_count": 9,
   "metadata": {},
   "outputs": [],
   "source": [
    "for i in range(21):\n",
    "    dummies1=pd.get_dummies(train_data.iloc[:,i],prefix='',prefix_sep='')\n",
    "    dummies2=dummies1.T.reindex(feat[i]).T.fillna(0)\n",
    "    df=pd.concat([df,dummies2],axis=1,sort=False)"
   ]
  },
  {
   "cell_type": "code",
   "execution_count": 10,
   "metadata": {},
   "outputs": [
    {
     "name": "stdout",
     "output_type": "stream",
     "text": [
      "<class 'pandas.core.frame.DataFrame'>\n",
      "RangeIndex: 4496 entries, 0 to 4495\n",
      "Columns: 119 entries, s to d\n",
      "dtypes: float64(17), uint8(102)\n",
      "memory usage: 1.0 MB\n"
     ]
    }
   ],
   "source": [
    "df.info()"
   ]
  },
  {
   "cell_type": "code",
   "execution_count": 11,
   "metadata": {},
   "outputs": [],
   "source": [
    "df2=pd.DataFrame(columns=None)"
   ]
  },
  {
   "cell_type": "code",
   "execution_count": 12,
   "metadata": {},
   "outputs": [],
   "source": [
    "for i in range(21):\n",
    "    dummies3=pd.get_dummies(test_data.iloc[:,i],prefix='',prefix_sep='')\n",
    "    dummies4=dummies3.T.reindex(feat[i]).T.fillna(0)\n",
    "    df2=pd.concat([df2,dummies4],axis=1,sort=False)"
   ]
  },
  {
   "cell_type": "code",
   "execution_count": 13,
   "metadata": {},
   "outputs": [
    {
     "name": "stdout",
     "output_type": "stream",
     "text": [
      "<class 'pandas.core.frame.DataFrame'>\n",
      "RangeIndex: 1000 entries, 0 to 999\n",
      "Columns: 119 entries, s to d\n",
      "dtypes: float64(72), uint8(47)\n",
      "memory usage: 608.5 KB\n"
     ]
    }
   ],
   "source": [
    "df2.info()"
   ]
  },
  {
   "cell_type": "code",
   "execution_count": 14,
   "metadata": {},
   "outputs": [],
   "source": [
    "#Putting the first row into label and second into pixels\n",
    "pixel=pd.DataFrame(df).to_numpy()\n",
    "label=pd.DataFrame(x).to_numpy()\n",
    "test_pixel=pd.DataFrame(df2).to_numpy()\n",
    "test_label=pd.DataFrame(label_data).to_numpy()\n",
    "\n",
    "label_list=[]\n",
    "for i in range(0,1000):\n",
    "    lb=test_label[i]\n",
    "    label_list.append(lb)\n",
    "# label_list"
   ]
  },
  {
   "cell_type": "code",
   "execution_count": 15,
   "metadata": {},
   "outputs": [
    {
     "name": "stdout",
     "output_type": "stream",
     "text": [
      "The accuracy using euclidean distance with k=5 :\n",
      "0.991\n"
     ]
    }
   ],
   "source": [
    "list2=[]\n",
    "for i in range(0,1000):\n",
    "    list1=[]\n",
    "    neighbors = []\n",
    "    m=test_pixel[i]\n",
    "    for j in range(1,4469):\n",
    "        l=pixel[j]\n",
    "        q=label[j]\n",
    "        distance = np.linalg.norm(l-m)\n",
    "        list1.append((q,distance))\n",
    "        \n",
    "    list1.sort(key=lambda ele:ele[1])\n",
    "    k=3\n",
    "    for p in range(k):\n",
    "        neighbors.append(list1[p][0])\n",
    "\n",
    "    output_values = [row[-1] for row in neighbors]\n",
    "    prediction = max(set(output_values), key=output_values.count) \n",
    "    list2.append(prediction)\n",
    "\n",
    "            \n",
    "    \n",
    "print('The accuracy using euclidean distance with k=5 :')    \n",
    "print (accuracy_score(label_list,list2))  \n",
    "aa=accuracy_score(label_list,list2)\n",
    "diff_dist.append(aa)\n",
    "    \n",
    "# list2    "
   ]
  },
  {
   "cell_type": "markdown",
   "metadata": {},
   "source": [
    "A confusion matrix is a summary of prediction results on a classification problem. The number of correct and incorrect predictions are summarized with count values and broken down by each class. This is the key to the confusion matrix. The confusion matrix shows the ways in which your classification model is confused when it makes predictions. It gives us insight not only into the errors being made by a classifier but more importantly the types of errors that are being made."
   ]
  },
  {
   "cell_type": "code",
   "execution_count": 16,
   "metadata": {},
   "outputs": [
    {
     "name": "stdout",
     "output_type": "stream",
     "text": [
      "The Confusion Matrix for euclidean distance with k=5:\n"
     ]
    },
    {
     "data": {
      "image/png": "[encoded data removed]",
      "text/plain": [
       "<Figure size 432x288 with 2 Axes>"
      ]
     },
     "metadata": {
      "needs_background": "light"
     },
     "output_type": "display_data"
    }
   ],
   "source": [
    "print('The Confusion Matrix for euclidean distance with k=5:')\n",
    "import seaborn as sns\n",
    "import matplotlib.pyplot as plt     \n",
    "cm=confusion_matrix(label_list,list2)\n",
    "ax= plt.subplot()\n",
    "sns.heatmap(cm, annot=True, ax = ax); "
   ]
  },
  {
   "cell_type": "markdown",
   "metadata": {},
   "source": [
    "# Precision"
   ]
  },
  {
   "cell_type": "markdown",
   "metadata": {},
   "source": [
    "To get the value of precision we divide the total number of correctly classified positive examples by the total number of predicted positive examples. High Precision indicates an example labeled as positive is indeed positive (small number of FP)."
   ]
  },
  {
   "cell_type": "markdown",
   "metadata": {},
   "source": [
    "# Recall"
   ]
  },
  {
   "cell_type": "markdown",
   "metadata": {},
   "source": [
    "Recall can be defined as the ratio of the total number of correctly classified positive examples divide to the total number of positive examples.\n",
    "\n",
    "High Recall indicates the class is correctly recognized (small number of FN). High recall, low precision:This means that most of the positive examples are correctly recognized (low FN) but there are a lot of false positives.\n",
    "\n",
    "Low recall, high precision:This shows that we miss a lot of positive examples (high FN) but those we predict as positive are indeed positive (low FP)"
   ]
  },
  {
   "cell_type": "markdown",
   "metadata": {},
   "source": [
    "# F-Measure"
   ]
  },
  {
   "cell_type": "markdown",
   "metadata": {},
   "source": [
    "Since we have two measures (Precision and Recall) it helps to have a measurement that represents both of them. We calculate an F-measure which uses Harmonic Mean in place of Arithmetic Mean as it punishes the extreme values more. The F-Measure will always be nearer to the smaller value of Precision or Recall."
   ]
  },
  {
   "cell_type": "markdown",
   "metadata": {},
   "source": [
    "# Report shown with K:5 for euclidean distance"
   ]
  },
  {
   "cell_type": "code",
   "execution_count": 17,
   "metadata": {},
   "outputs": [
    {
     "name": "stdout",
     "output_type": "stream",
     "text": [
      "              precision    recall  f1-score   support\n",
      "\n",
      "           e       0.99      1.00      0.99       505\n",
      "           p       1.00      0.99      0.99       495\n",
      "\n",
      "    accuracy                           0.99      1000\n",
      "   macro avg       0.99      0.99      0.99      1000\n",
      "weighted avg       0.99      0.99      0.99      1000\n",
      "\n"
     ]
    }
   ],
   "source": [
    "print(cr(label_list , list2))\n"
   ]
  },
  {
   "cell_type": "code",
   "execution_count": 18,
   "metadata": {},
   "outputs": [
    {
     "name": "stdout",
     "output_type": "stream",
     "text": [
      "[0.991, 0.991, 0.991, 0.991, 0.991, 0.991, 0.991, 0.991, 0.991, 0.991, 0.991, 0.991, 0.991, 0.991, 0.991, 0.991, 0.991, 0.991, 0.991, 0.991, 0.991, 0.991, 0.991, 0.991, 0.991, 0.991, 0.991, 0.991, 0.991, 0.991, 0.991, 0.991, 0.991, 0.991, 0.991, 0.991, 0.991, 0.991, 0.991, 0.991, 0.991, 0.991, 0.991, 0.991, 0.991, 0.991, 0.991, 0.991, 0.991]\n"
     ]
    }
   ],
   "source": [
    "k_range = range(1,50)\n",
    "scores = []\n",
    "for k in k_range:\n",
    "    scores.append(accuracy_score(label_list,list2))\n",
    "print(scores)    "
   ]
  },
  {
   "cell_type": "code",
   "execution_count": 19,
   "metadata": {},
   "outputs": [
    {
     "data": {
      "text/plain": [
       "Text(0, 0.5, 'Testing Accuracy')"
      ]
     },
     "execution_count": 19,
     "metadata": {},
     "output_type": "execute_result"
    },
    {
     "data": {
      "image/png": "[encoded data removed]",
      "text/plain": [
       "<Figure size 432x288 with 1 Axes>"
      ]
     },
     "metadata": {
      "needs_background": "light"
     },
     "output_type": "display_data"
    }
   ],
   "source": [
    "\n",
    "# allow plots to appear within the notebook\n",
    "%matplotlib inline\n",
    "\n",
    "# plot the relationship between K and testing accuracy\n",
    "# plt.plot(x_axis, y_axis)\n",
    "plt.plot(k_range, scores)\n",
    "plt.xlabel('Value of K for KNN')\n",
    "plt.ylabel('Testing Accuracy')"
   ]
  },
  {
   "cell_type": "markdown",
   "metadata": {},
   "source": [
    " # Method 2\n",
    " We solve the problem of dummy variables when not all categories are present by just the mannually appending the row wherein we first rectify which attributes are present in train data but absent in test and just append those in test data.\n",
    " \n"
   ]
  },
  {
   "cell_type": "code",
   "execution_count": 20,
   "metadata": {},
   "outputs": [],
   "source": [
    " #Import dataset\n",
    "dataset=pd.read_csv('train.csv',header=None)\n",
    "test_data=pd.read_csv('test.csv',header=None) \n",
    "label_data=pd.read_csv('test_labels.csv',header=None)\n",
    "# label_data"
   ]
  },
  {
   "cell_type": "code",
   "execution_count": 21,
   "metadata": {},
   "outputs": [],
   "source": [
    "#Location x is independent(label) and y is independent(vales)\n",
    "x=dataset.iloc[:,:1]\n",
    "y=dataset.iloc[:,1:]\n"
   ]
  },
  {
   "cell_type": "code",
   "execution_count": 22,
   "metadata": {},
   "outputs": [],
   "source": [
    "train_data=pd.DataFrame(y)\n",
    "test_data_df=pd.DataFrame(test_data)"
   ]
  },
  {
   "cell_type": "code",
   "execution_count": 23,
   "metadata": {},
   "outputs": [],
   "source": [
    "test_data1=pd.DataFrame({0:['x'],1:['g'],2:['g'],3:['f'],4:['f'],5:['f'],6:['c'],7:['b'],8:['p'],9:['e'],10:['b'],11:['k'],12:['k'],13:['y'],14:['p'],15:['p'],16:['y'],17:['o'],18:['l'],19:['h'],20:['v'],21:['g']})"
   ]
  },
  {
   "cell_type": "code",
   "execution_count": 24,
   "metadata": {},
   "outputs": [],
   "source": [
    "dd=test_data_df.append(test_data1)"
   ]
  },
  {
   "cell_type": "code",
   "execution_count": 25,
   "metadata": {},
   "outputs": [],
   "source": [
    "train_data.drop(dataset.columns[[11]], axis = 1, inplace = True) \n",
    "dd.drop(test_data.columns[[10]], axis = 1, inplace= True)\n"
   ]
  },
  {
   "cell_type": "code",
   "execution_count": 26,
   "metadata": {},
   "outputs": [
    {
     "data": {
      "text/plain": [
       "(4496, 112)"
      ]
     },
     "execution_count": 26,
     "metadata": {},
     "output_type": "execute_result"
    }
   ],
   "source": [
    "data_after_encode=pd.get_dummies(train_data)\n",
    "data_after_encode.shape    \n",
    "    "
   ]
  },
  {
   "cell_type": "code",
   "execution_count": 27,
   "metadata": {},
   "outputs": [
    {
     "data": {
      "text/plain": [
       "(1001, 112)"
      ]
     },
     "execution_count": 27,
     "metadata": {},
     "output_type": "execute_result"
    }
   ],
   "source": [
    "test_data_after_encode=pd.get_dummies(dd)\n",
    "test_data_after_encode.shape"
   ]
  },
  {
   "cell_type": "code",
   "execution_count": 28,
   "metadata": {},
   "outputs": [],
   "source": [
    "#Putting the first row into label and second into pixels\n",
    "pixel=pd.DataFrame(data_after_encode).to_numpy()\n",
    "label=pd.DataFrame(x).to_numpy()\n",
    "test_pixel=pd.DataFrame(test_data_after_encode).to_numpy()\n",
    "test_label=pd.DataFrame(label_data).to_numpy()\n",
    "\n",
    "label_list=[]\n",
    "for i in range(0,1000):\n",
    "    lb=test_label[i]\n",
    "    label_list.append(lb)"
   ]
  },
  {
   "cell_type": "code",
   "execution_count": 29,
   "metadata": {},
   "outputs": [
    {
     "name": "stdout",
     "output_type": "stream",
     "text": [
      "The accuracy using euclidean distance with k=5 :\n",
      "100.0\n"
     ]
    }
   ],
   "source": [
    "list2=[]\n",
    "for i in range(0,1000):\n",
    "    list1=[]\n",
    "    neighbors = []\n",
    "    m=test_pixel[i]\n",
    "    for j in range(1,4496):\n",
    "        l=pixel[j]\n",
    "        q=label[j]\n",
    "        distance = dist.cityblock(l,m)\n",
    "        list1.append((q,distance))\n",
    "        \n",
    "    list1.sort(key=lambda ele:ele[1])\n",
    "    k=5\n",
    "    for p in range(k):\n",
    "        neighbors.append(list1[p][0])\n",
    "\n",
    "    output_values = [row[-1] for row in neighbors]\n",
    "    prediction = max(set(output_values), key=output_values.count) \n",
    "    list2.append(prediction)\n",
    "    \n",
    "   \n",
    "print('The accuracy using euclidean distance with k=5 :')    \n",
    "print (accuracy_score(label_list,list2)*100) \n",
    "bb=accuracy_score(label_list,list2)\n",
    "diff_dist.append(bb)"
   ]
  },
  {
   "cell_type": "code",
   "execution_count": 30,
   "metadata": {},
   "outputs": [
    {
     "name": "stdout",
     "output_type": "stream",
     "text": [
      "The Confusion Matrix for Manhattan distance with k=5:\n"
     ]
    },
    {
     "data": {
      "image/png": "[encoded data removed]",
      "text/plain": [
       "<Figure size 432x288 with 2 Axes>"
      ]
     },
     "metadata": {
      "needs_background": "light"
     },
     "output_type": "display_data"
    }
   ],
   "source": [
    "print('The Confusion Matrix for Manhattan distance with k=5:')\n",
    "import seaborn as sns\n",
    "import matplotlib.pyplot as plt     \n",
    "cm=confusion_matrix(label_list,list2)\n",
    "ax= plt.subplot()\n",
    "sns.heatmap(cm, annot=True, ax = ax); "
   ]
  },
  {
   "cell_type": "markdown",
   "metadata": {},
   "source": [
    "# Report shown with K:5 for Manhattan distance"
   ]
  },
  {
   "cell_type": "code",
   "execution_count": 31,
   "metadata": {},
   "outputs": [
    {
     "name": "stdout",
     "output_type": "stream",
     "text": [
      "              precision    recall  f1-score   support\n",
      "\n",
      "           e       1.00      1.00      1.00       505\n",
      "           p       1.00      1.00      1.00       495\n",
      "\n",
      "    accuracy                           1.00      1000\n",
      "   macro avg       1.00      1.00      1.00      1000\n",
      "weighted avg       1.00      1.00      1.00      1000\n",
      "\n"
     ]
    }
   ],
   "source": [
    "print(cr(label_list , list2))"
   ]
  },
  {
   "cell_type": "code",
   "execution_count": 32,
   "metadata": {},
   "outputs": [
    {
     "name": "stdout",
     "output_type": "stream",
     "text": [
      "[1.0, 1.0, 1.0, 1.0, 1.0, 1.0, 1.0, 1.0, 1.0, 1.0, 1.0, 1.0, 1.0, 1.0, 1.0, 1.0, 1.0, 1.0, 1.0, 1.0, 1.0, 1.0, 1.0, 1.0, 1.0, 1.0, 1.0, 1.0, 1.0, 1.0, 1.0, 1.0, 1.0, 1.0, 1.0, 1.0, 1.0, 1.0, 1.0, 1.0, 1.0, 1.0, 1.0, 1.0, 1.0, 1.0, 1.0, 1.0, 1.0]\n"
     ]
    }
   ],
   "source": [
    "k_range = range(1,50)\n",
    "scores = []\n",
    "for k in k_range:\n",
    "    scores.append(accuracy_score(label_list,list2))\n",
    "print(scores)  "
   ]
  },
  {
   "cell_type": "code",
   "execution_count": 33,
   "metadata": {},
   "outputs": [
    {
     "data": {
      "text/plain": [
       "Text(0, 0.5, 'Testing Accuracy')"
      ]
     },
     "execution_count": 33,
     "metadata": {},
     "output_type": "execute_result"
    },
    {
     "data": {
      "image/png": "[encoded data removed]",
      "text/plain": [
       "<Figure size 432x288 with 1 Axes>"
      ]
     },
     "metadata": {
      "needs_background": "light"
     },
     "output_type": "display_data"
    }
   ],
   "source": [
    "# allow plots to appear within the notebook\n",
    "%matplotlib inline\n",
    "\n",
    "# plot the relationship between K and testing accuracy\n",
    "# plt.plot(x_axis, y_axis)\n",
    "plt.plot(k_range, scores)\n",
    "plt.xlabel('Value of K for KNN')\n",
    "plt.ylabel('Testing Accuracy')"
   ]
  },
  {
   "cell_type": "markdown",
   "metadata": {},
   "source": [
    "# Method 3"
   ]
  },
  {
   "cell_type": "markdown",
   "metadata": {},
   "source": [
    "Here in this method we merge train and test dataset and then we apply one hot encoding. While merging we indicate test rows with '1' and train rows with '0', we do this by adding one extra coloumn after we have merged test and train. We carry out this operation to make sure both train and test have same number of coloumns.\n"
   ]
  },
  {
   "cell_type": "code",
   "execution_count": 34,
   "metadata": {},
   "outputs": [],
   "source": [
    "dataset=pd.read_csv('train.csv',header=None)\n",
    "test_data=pd.read_csv('test.csv',header=None)\n",
    "label_data=pd.read_csv('test_labels.csv',header=None)"
   ]
  },
  {
   "cell_type": "code",
   "execution_count": 35,
   "metadata": {},
   "outputs": [],
   "source": [
    "#x represents first coloumn and y represents all remaining coloumns\n",
    "x=dataset.iloc[:,:1]\n",
    "y=dataset.iloc[:,1:]"
   ]
  },
  {
   "cell_type": "code",
   "execution_count": 36,
   "metadata": {},
   "outputs": [],
   "source": [
    "train_data=pd.DataFrame(y)\n",
    "test_data_df=pd.DataFrame(test_data)"
   ]
  },
  {
   "cell_type": "code",
   "execution_count": 37,
   "metadata": {},
   "outputs": [],
   "source": [
    "train_data.drop(dataset.columns[[11]], axis = 1, inplace = True) \n",
    "test_data_df.drop(test_data.columns[[10]], axis = 1, inplace= True)"
   ]
  },
  {
   "cell_type": "code",
   "execution_count": 38,
   "metadata": {},
   "outputs": [],
   "source": [
    "temp = pd.get_dummies(pd.concat([train_data,test_data_df],keys=[0,1]))"
   ]
  },
  {
   "cell_type": "code",
   "execution_count": 39,
   "metadata": {},
   "outputs": [],
   "source": [
    "Xtrain,Xtest = temp.xs(0),temp.xs(1)"
   ]
  },
  {
   "cell_type": "code",
   "execution_count": 40,
   "metadata": {},
   "outputs": [
    {
     "data": {
      "text/plain": [
       "(4496, 191)"
      ]
     },
     "execution_count": 40,
     "metadata": {},
     "output_type": "execute_result"
    }
   ],
   "source": [
    "data_after_encode=pd.get_dummies(Xtrain).shape\n",
    "data_after_encode  "
   ]
  },
  {
   "cell_type": "code",
   "execution_count": 41,
   "metadata": {},
   "outputs": [
    {
     "data": {
      "text/plain": [
       "(1000, 191)"
      ]
     },
     "execution_count": 41,
     "metadata": {},
     "output_type": "execute_result"
    }
   ],
   "source": [
    "test_data_after_encode=pd.get_dummies(Xtest)\n",
    "test_data_after_encode.shape"
   ]
  },
  {
   "cell_type": "code",
   "execution_count": 42,
   "metadata": {},
   "outputs": [],
   "source": [
    "pixel=pd.DataFrame(Xtrain).to_numpy()\n",
    "label=pd.DataFrame(x).to_numpy()\n",
    "test_pixel=pd.DataFrame(Xtest).to_numpy()\n",
    "test_label=pd.DataFrame(label_data).to_numpy()\n",
    "\n",
    "label_list=[]\n",
    "for i in range(0,1000):\n",
    "    lb=test_label[i]\n",
    "    \n",
    "    label_list.append(lb)"
   ]
  },
  {
   "cell_type": "code",
   "execution_count": 43,
   "metadata": {},
   "outputs": [
    {
     "name": "stdout",
     "output_type": "stream",
     "text": [
      "The accuracy using cosine distance with k=5 :\n",
      "54.300000000000004\n"
     ]
    }
   ],
   "source": [
    "\n",
    "list2=[]\n",
    "for i in range(0,1000):\n",
    "    list1=[]\n",
    "    neighbors = []\n",
    "    m=test_pixel[i]\n",
    "    for j in range(1,4496):\n",
    "        l=pixel[j]\n",
    "        q=label[j]\n",
    "        distance =dist.cosine(l,m)\n",
    "        list1.append((q,distance))\n",
    "        \n",
    "    list1.sort(key=lambda ele:ele[1])\n",
    "    k=3\n",
    "    for p in range(k):\n",
    "        neighbors.append(list1[p][0])\n",
    "\n",
    "    output_values = [row[-1] for row in neighbors]\n",
    "    prediction = max(set(output_values), key=output_values.count) \n",
    "    list2.append(prediction)\n",
    "    \n",
    "    \n",
    "        \n",
    "print('The accuracy using cosine distance with k=5 :')     \n",
    "print (accuracy_score(label_list,list2)*100) \n",
    "cc=accuracy_score(label_list,list2)\n",
    "diff_dist.append(cc)"
   ]
  },
  {
   "cell_type": "code",
   "execution_count": 44,
   "metadata": {},
   "outputs": [
    {
     "name": "stdout",
     "output_type": "stream",
     "text": [
      "The Confusion Matrix for Manhattan distance with k=5:\n"
     ]
    },
    {
     "data": {
      "image/png": "[encoded data removed]",
      "text/plain": [
       "<Figure size 432x288 with 2 Axes>"
      ]
     },
     "metadata": {
      "needs_background": "light"
     },
     "output_type": "display_data"
    }
   ],
   "source": [
    "print('The Confusion Matrix for Manhattan distance with k=5:')\n",
    "import seaborn as sns\n",
    "import matplotlib.pyplot as plt     \n",
    "cm=confusion_matrix(label_list,list2)\n",
    "ax= plt.subplot()\n",
    "sns.heatmap(cm, annot=True, ax = ax); "
   ]
  },
  {
   "cell_type": "markdown",
   "metadata": {},
   "source": [
    "# Report shown with K:3 for Cosine distance"
   ]
  },
  {
   "cell_type": "code",
   "execution_count": 45,
   "metadata": {},
   "outputs": [
    {
     "name": "stdout",
     "output_type": "stream",
     "text": [
      "              precision    recall  f1-score   support\n",
      "\n",
      "           e       0.63      0.24      0.34       505\n",
      "           p       0.52      0.86      0.65       495\n",
      "\n",
      "    accuracy                           0.54      1000\n",
      "   macro avg       0.57      0.55      0.50      1000\n",
      "weighted avg       0.58      0.54      0.49      1000\n",
      "\n"
     ]
    }
   ],
   "source": [
    "print(cr(label_list , list2))\n"
   ]
  },
  {
   "cell_type": "code",
   "execution_count": 46,
   "metadata": {},
   "outputs": [
    {
     "name": "stdout",
     "output_type": "stream",
     "text": [
      "[0.543, 0.543, 0.543, 0.543, 0.543, 0.543, 0.543, 0.543, 0.543, 0.543, 0.543, 0.543, 0.543, 0.543, 0.543, 0.543, 0.543, 0.543, 0.543, 0.543, 0.543, 0.543, 0.543, 0.543, 0.543, 0.543, 0.543, 0.543, 0.543, 0.543, 0.543, 0.543, 0.543, 0.543, 0.543, 0.543, 0.543, 0.543, 0.543, 0.543, 0.543, 0.543, 0.543, 0.543, 0.543, 0.543, 0.543, 0.543, 0.543]\n"
     ]
    }
   ],
   "source": [
    "k_range = range(1,50)\n",
    "scores = []\n",
    "for k in k_range:\n",
    "    scores.append(accuracy_score(label_list,list2))\n",
    "print(scores)  "
   ]
  },
  {
   "cell_type": "code",
   "execution_count": 47,
   "metadata": {},
   "outputs": [
    {
     "data": {
      "text/plain": [
       "Text(0, 0.5, 'Testing Accuracy')"
      ]
     },
     "execution_count": 47,
     "metadata": {},
     "output_type": "execute_result"
    },
    {
     "data": {
      "image/png": "[encoded data removed]",
      "text/plain": [
       "<Figure size 432x288 with 1 Axes>"
      ]
     },
     "metadata": {
      "needs_background": "light"
     },
     "output_type": "display_data"
    }
   ],
   "source": [
    "# allow plots to appear within the notebook\n",
    "%matplotlib inline\n",
    "\n",
    "# plot the relationship between K and testing accuracy\n",
    "# plt.plot(x_axis, y_axis)\n",
    "plt.plot(k_range, scores)\n",
    "plt.xlabel('Value of K for KNN on ')\n",
    "plt.ylabel('Testing Accuracy')"
   ]
  },
  {
   "cell_type": "code",
   "execution_count": 48,
   "metadata": {},
   "outputs": [
    {
     "name": "stdout",
     "output_type": "stream",
     "text": [
      "[0.991, 1.0, 0.543]\n"
     ]
    }
   ],
   "source": [
    "\n",
    "print(diff_dist)  "
   ]
  },
  {
   "cell_type": "markdown",
   "metadata": {},
   "source": [
    "# The graph shows differnt values of accuracy for different distance calculation methods"
   ]
  },
  {
   "cell_type": "code",
   "execution_count": 51,
   "metadata": {},
   "outputs": [
    {
     "data": {
      "text/plain": [
       "Text(0, 0.5, 'Testing Accuracy')"
      ]
     },
     "execution_count": 51,
     "metadata": {},
     "output_type": "execute_result"
    },
    {
     "data": {
      "image/png": "[encoded data removed]",
      "text/plain": [
       "<Figure size 432x288 with 1 Axes>"
      ]
     },
     "metadata": {
      "needs_background": "light"
     },
     "output_type": "display_data"
    }
   ],
   "source": [
    "# allow plots to appear within the notebook\n",
    "%matplotlib inline\n",
    "\n",
    "# plot the relationship between K and testing accuracy\n",
    "# plt.plot(x_axis, y_axis)\n",
    "plt.plot(diff_dist)\n",
    "plt.xlabel('For differnt methods of distances(eucidean/manhattan/cosine)')\n",
    "plt.ylabel('Testing Accuracy')"
   ]
  },
  {
   "cell_type": "code",
   "execution_count": null,
   "metadata": {},
   "outputs": [],
   "source": []
  }
 ],
 "metadata": {
  "kernelspec": {
   "display_name": "Python 3",
   "language": "python",
   "name": "python3"
  },
  "language_info": {
   "codemirror_mode": {
    "name": "ipython",
    "version": 3
   },
   "file_extension": ".py",
   "mimetype": "text/x-python",
   "name": "python",
   "nbconvert_exporter": "python",
   "pygments_lexer": "ipython3",
   "version": "3.7.3"
  }
 },
 "nbformat": 4,
 "nbformat_minor": 2
}
