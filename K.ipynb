{
 "cells": [
  {
   "cell_type": "code",
   "execution_count": 1,
   "metadata": {},
   "outputs": [],
   "source": [
    "import pandas as pd\n",
    "import numpy as np\n",
    "import matplotlib.pyplot as plt\n",
    "import math\n",
    "from sklearn.metrics import accuracy_score"
   ]
  },
  {
   "cell_type": "code",
   "execution_count": 2,
   "metadata": {},
   "outputs": [],
   "source": [
    "#Import dataset\n",
    "dataset=pd.read_csv('train.csv',header=None)\n",
    "test_data=pd.read_csv('test.csv',header=None) \n",
    "label_data=pd.read_csv('test_labels.csv')\n",
    "# label_data"
   ]
  },
  {
   "cell_type": "code",
   "execution_count": 3,
   "metadata": {},
   "outputs": [
    {
     "name": "stdout",
     "output_type": "stream",
     "text": [
      "<class 'pandas.core.frame.DataFrame'>\n",
      "RangeIndex: 999 entries, 0 to 998\n",
      "Data columns (total 1 columns):\n",
      "e    999 non-null object\n",
      "dtypes: object(1)\n",
      "memory usage: 7.9+ KB\n"
     ]
    }
   ],
   "source": [
    "label_data.info()"
   ]
  },
  {
   "cell_type": "code",
   "execution_count": 4,
   "metadata": {},
   "outputs": [],
   "source": [
    "#Location x is independent(label) and y is independent(vales)\n",
    "x=dataset.iloc[:,:1]\n",
    "y=dataset.iloc[:,1:]\n"
   ]
  },
  {
   "cell_type": "code",
   "execution_count": 5,
   "metadata": {},
   "outputs": [],
   "source": [
    "ll=[]\n",
    "for i in range(len(label_data)):\n",
    "    if (label_data.iloc[i,0] == 'e'):\n",
    "        ll.append(0)\n",
    "    else:\n",
    "        ll.append(1)\n",
    "        \n",
    "        \n",
    "\n",
    "  "
   ]
  },
  {
   "cell_type": "code",
   "execution_count": 6,
   "metadata": {},
   "outputs": [],
   "source": [
    "train_data=pd.DataFrame(y)\n",
    "test_data_df=pd.DataFrame(test_data)"
   ]
  },
  {
   "cell_type": "code",
   "execution_count": 7,
   "metadata": {},
   "outputs": [],
   "source": [
    "train_data.drop(dataset.columns[[11]], axis = 1, inplace = True) \n",
    "test_data_df.drop(dataset.columns[[10]], axis = 1, inplace = True) "
   ]
  },
  {
   "cell_type": "code",
   "execution_count": 8,
   "metadata": {},
   "outputs": [],
   "source": [
    "feat=[['s','k','f','x','c','b'],['f','g','y','s'],['n','b','c','g','r','p','u','e','w','y'],['t','f'],['a','l','c','y','f','m','n','p','s'],\n",
    "      ['a','d','f','n'],['c','w','d'],['b','n'],['k','n','b','h','g','r','o','p','u','e','w','y'],['e','t'],\n",
    "      ['f','y','k','s'],['f','y','k','s'],['n','b','c','g','o','p','e','w','y'],['n','b','c','g','o','p','e','w','y'],\n",
    "      ['p','u'],['n','o','w','y'],['n','o','t'],['c','e','f','l','n','p','s','z'],['k','n','b','h','r','o','u','w','y'],\n",
    "      ['a','c','n','s','v','y'],['g','l','m','p','u','w','d'] ]\n",
    "     "
   ]
  },
  {
   "cell_type": "code",
   "execution_count": 9,
   "metadata": {},
   "outputs": [
    {
     "name": "stdout",
     "output_type": "stream",
     "text": [
      "<class 'pandas.core.frame.DataFrame'>\n",
      "RangeIndex: 4496 entries, 0 to 4495\n",
      "Data columns (total 21 columns):\n",
      "1     4496 non-null object\n",
      "2     4496 non-null object\n",
      "3     4496 non-null object\n",
      "4     4496 non-null object\n",
      "5     4496 non-null object\n",
      "6     4496 non-null object\n",
      "7     4496 non-null object\n",
      "8     4496 non-null object\n",
      "9     4496 non-null object\n",
      "10    4496 non-null object\n",
      "12    4496 non-null object\n",
      "13    4496 non-null object\n",
      "14    4496 non-null object\n",
      "15    4496 non-null object\n",
      "16    4496 non-null object\n",
      "17    4496 non-null object\n",
      "18    4496 non-null object\n",
      "19    4496 non-null object\n",
      "20    4496 non-null object\n",
      "21    4496 non-null object\n",
      "22    4496 non-null object\n",
      "dtypes: object(21)\n",
      "memory usage: 737.7+ KB\n"
     ]
    }
   ],
   "source": [
    "df=pd.DataFrame(columns=None)\n",
    "train_data.info()"
   ]
  },
  {
   "cell_type": "code",
   "execution_count": 28,
   "metadata": {},
   "outputs": [
    {
     "data": {
      "text/plain": [
       "4496"
      ]
     },
     "execution_count": 28,
     "metadata": {},
     "output_type": "execute_result"
    }
   ],
   "source": [
    "n=len(train_data[1].values)\n",
    "n"
   ]
  },
  {
   "cell_type": "code",
   "execution_count": 10,
   "metadata": {},
   "outputs": [],
   "source": [
    "for i in range(21):\n",
    "    dummies1=pd.get_dummies(train_data.iloc[:,i],prefix='',prefix_sep='')\n",
    "    dummies2=dummies1.T.reindex(feat[i]).T.fillna(0)\n",
    "    df=pd.concat([df,dummies2],axis=1,sort=False)"
   ]
  },
  {
   "cell_type": "code",
   "execution_count": 11,
   "metadata": {},
   "outputs": [
    {
     "name": "stdout",
     "output_type": "stream",
     "text": [
      "<class 'pandas.core.frame.DataFrame'>\n",
      "RangeIndex: 4496 entries, 0 to 4495\n",
      "Columns: 119 entries, s to d\n",
      "dtypes: float64(17), uint8(102)\n",
      "memory usage: 1.0 MB\n"
     ]
    }
   ],
   "source": [
    "df.info()"
   ]
  },
  {
   "cell_type": "code",
   "execution_count": 12,
   "metadata": {},
   "outputs": [],
   "source": [
    "df2=pd.DataFrame(columns=None)"
   ]
  },
  {
   "cell_type": "code",
   "execution_count": 13,
   "metadata": {},
   "outputs": [],
   "source": [
    "for i in range(21):\n",
    "    dummies3=pd.get_dummies(test_data.iloc[:,i],prefix='',prefix_sep='')\n",
    "    dummies4=dummies3.T.reindex(feat[i]).T.fillna(0)\n",
    "    df2=pd.concat([df2,dummies4],axis=1,sort=False)"
   ]
  },
  {
   "cell_type": "code",
   "execution_count": 14,
   "metadata": {},
   "outputs": [
    {
     "name": "stdout",
     "output_type": "stream",
     "text": [
      "<class 'pandas.core.frame.DataFrame'>\n",
      "RangeIndex: 1000 entries, 0 to 999\n",
      "Columns: 119 entries, s to d\n",
      "dtypes: float64(72), uint8(47)\n",
      "memory usage: 608.5 KB\n"
     ]
    }
   ],
   "source": [
    "df2.info()"
   ]
  },
  {
   "cell_type": "code",
   "execution_count": 15,
   "metadata": {},
   "outputs": [],
   "source": [
    "#Putting the first row into label and second into pixels\n",
    "pixel=pd.DataFrame(df).to_numpy()\n",
    "label=pd.DataFrame(x).to_numpy()\n",
    "test_pixel=pd.DataFrame(df2).to_numpy()\n",
    "test_label=pd.DataFrame(label_data).to_numpy()\n",
    "\n",
    "label_list=[]\n",
    "for i in range(0,999):\n",
    "    lb=test_label[i]\n",
    "    label_list.append(lb)\n",
    "# label_list"
   ]
  },
  {
   "cell_type": "code",
   "execution_count": 17,
   "metadata": {},
   "outputs": [
    {
     "name": "stdout",
     "output_type": "stream",
     "text": [
      "The accuracy using euclidean distance with k=5 :\n",
      "100.0\n"
     ]
    }
   ],
   "source": [
    "list2=[]\n",
    "for i in range(0,999):\n",
    "    list1=[]\n",
    "    neighbors = []\n",
    "    m=test_pixel[i]\n",
    "    for j in range(1,4469):\n",
    "        l=pixel[j]\n",
    "        q=label[j]\n",
    "        distance = np.linalg.norm(l-m)\n",
    "        list1.append((q,distance))\n",
    "        \n",
    "    list1.sort(key=lambda ele:ele[1])\n",
    "    k=5\n",
    "    for p in range(k):\n",
    "        neighbors.append(list1[p][0])\n",
    "\n",
    "    output_values = [row[-1] for row in neighbors]\n",
    "    prediction = max(set(output_values), key=output_values.count) \n",
    "    list2.append(prediction)\n",
    "\n",
    "ll=[] \n",
    "lll=[]\n",
    "for i in range(len(label_data)):\n",
    "    if (label_data.iloc[i,0] == 'e'):\n",
    "        ll.append(0)\n",
    "    else:\n",
    "        ll.append(1)\n",
    "for i in range(len(list2)):\n",
    "    if (label_data.iloc[i,0] == 'e'):\n",
    "        lll.append(0)\n",
    "    else:\n",
    "        lll.append(1)\n",
    "    \n",
    "            \n",
    "    \n",
    "print('The accuracy using euclidean distance with k=5 :')    \n",
    "print (accuracy_score(ll, lll)*100)   \n",
    "\n",
    "    \n",
    "# list2    "
   ]
  },
  {
   "cell_type": "code",
   "execution_count": 18,
   "metadata": {},
   "outputs": [
    {
     "ename": "AttributeError",
     "evalue": "'list' object has no attribute 'info'",
     "output_type": "error",
     "traceback": [
      "\u001b[0;31m---------------------------------------------------------------------------\u001b[0m",
      "\u001b[0;31mAttributeError\u001b[0m                            Traceback (most recent call last)",
      "\u001b[0;32m<ipython-input-18-75fd09ca12fe>\u001b[0m in \u001b[0;36m<module>\u001b[0;34m\u001b[0m\n\u001b[0;32m----> 1\u001b[0;31m \u001b[0mlist2\u001b[0m\u001b[0;34m.\u001b[0m\u001b[0minfo\u001b[0m\u001b[0;34m(\u001b[0m\u001b[0;34m)\u001b[0m\u001b[0;34m\u001b[0m\u001b[0;34m\u001b[0m\u001b[0m\n\u001b[0m",
      "\u001b[0;31mAttributeError\u001b[0m: 'list' object has no attribute 'info'"
     ]
    }
   ],
   "source": [
    " list2.info()"
   ]
  }
 ],
 "metadata": {
  "kernelspec": {
   "display_name": "Python 3",
   "language": "python",
   "name": "python3"
  },
  "language_info": {
   "codemirror_mode": {
    "name": "ipython",
    "version": 3
   },
   "file_extension": ".py",
   "mimetype": "text/x-python",
   "name": "python",
   "nbconvert_exporter": "python",
   "pygments_lexer": "ipython3",
   "version": "3.7.3"
  }
 },
 "nbformat": 4,
 "nbformat_minor": 2
}
